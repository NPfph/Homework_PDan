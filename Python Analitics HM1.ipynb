{
 "cells": [
  {
   "cell_type": "markdown",
   "id": "74103249",
   "metadata": {},
   "source": [
    "### Задание 1\n",
    "\n",
    "На складе лежат разные фрукты в разном количестве. Нужно написать функцию, которая на вход принимает любое количество названий фруктов и их количество, а возвращает общее количество фруктов на складе"
   ]
  },
  {
   "cell_type": "code",
   "execution_count": 77,
   "id": "06be3e74",
   "metadata": {},
   "outputs": [
    {
     "name": "stdout",
     "output_type": "stream",
     "text": [
      "Name of the fruit: apple\n",
      "Amount in pieces: 10\n",
      "Name of the fruit: pam\n",
      "Amount in pieces: 33\n",
      "Name of the fruit: orange\n",
      "Amount in pieces: 12\n",
      "Name of the fruit: \n",
      "{'apple': 10, 'pam': 33, 'orange': 12}\n"
     ]
    },
    {
     "data": {
      "text/plain": [
       "55"
      ]
     },
     "execution_count": 77,
     "metadata": {},
     "output_type": "execute_result"
    }
   ],
   "source": [
    "fruits_store = dict()\n",
    "while True:\n",
    "    fruit_name = input('Name of the fruit: ')\n",
    "    if not fruit_name:\n",
    "        break\n",
    "    fruit_amount = int(input('Amount in pieces: '))\n",
    "\n",
    "    # Добавить в словарь если пользователя с именем `name` ранее не было.\n",
    "    # Если вы хотите не только добавлять, но и изменять age у уже существующих `name`,\n",
    "    # удалите две строки ниже.\n",
    "    isName = fruits_store.get(fruit_name, None)\n",
    "    if isName is None:\n",
    "        fruits_store[fruit_name] = fruit_amount\n",
    "\n",
    "print(fruits_store)\n",
    "\n",
    "def amount_of_fruits(data: dict) -> int:\n",
    "    sum = 0\n",
    "    for i in data:\n",
    "        sum += data[i]\n",
    "    return sum\n",
    "\n",
    "amount_of_fruits(fruits_store)"
   ]
  },
  {
   "cell_type": "markdown",
   "id": "4c0fb035",
   "metadata": {},
   "source": [
    "## Задание 2\n",
    "\n",
    "Дан список с затратами на рекламу. Но в данных есть ошибки, некоторые затраты имеют отрицательную величину. Удалите такие значения из списка и посчитайте суммарные затраты\n",
    " [100, 125, -90, 345, 655, -1, 0, 200]"
   ]
  },
  {
   "cell_type": "code",
   "execution_count": 97,
   "id": "577ea654",
   "metadata": {},
   "outputs": [
    {
     "data": {
      "text/plain": [
       "1084"
      ]
     },
     "execution_count": 97,
     "metadata": {},
     "output_type": "execute_result"
    }
   ],
   "source": [
    "cost_of_ad =  [100, 125, -90, 345, 655, -1, 0, 200]\n",
    "\n",
    "cost_of_ad_2 =  [100, -125, -90, 345, 655, -1, 0, 200]\n",
    "\n",
    "def delete_nums(data: dict):\n",
    "    new_list_cost_of_ad = []\n",
    "    for i in cost_of_ad:\n",
    "        if i >= 0:\n",
    "            new_list_cost_of_ad.append(i)\n"
   ]
  },
  {
   "cell_type": "code",
   "execution_count": 98,
   "id": "a9cdd416",
   "metadata": {},
   "outputs": [
    {
     "data": {
      "text/plain": [
       "1425"
      ]
     },
     "execution_count": 98,
     "metadata": {},
     "output_type": "execute_result"
    }
   ],
   "source": [
    "delete_nums(cost_of_ad)\n",
    "sum(new_list_cost_of_ad)"
   ]
  },
  {
   "cell_type": "code",
   "execution_count": 99,
   "id": "502271e9",
   "metadata": {},
   "outputs": [
    {
     "data": {
      "text/plain": [
       "1084"
      ]
     },
     "execution_count": 99,
     "metadata": {},
     "output_type": "execute_result"
    }
   ],
   "source": [
    "delete_nums(cost_of_ad_2)\n",
    "sum(cost_of_ad_2)"
   ]
  },
  {
   "cell_type": "markdown",
   "id": "675ac472",
   "metadata": {},
   "source": [
    "## Условие 3.1:\n",
    "Даны два списка.\n",
    "Дата покупки\n",
    "['2021-09-14', '2021-12-15', '2021-09-08', '2021-12-05', '2021-10-09', '2021-09-30', '2021-12-22', '2021-11-29', '2021-12-24', '2021-11-26', '2021-10-27', '2021-12-18', '2021-11-09', '2021-11-23', '2021-09-27', '2021-10-02', '2021-12-27', '2021-09-20', '2021-12-13', '2021-11-01', '2021-11-09', '2021-12-06', '2021-12-08', '2021-10-09', '2021-10-31', '2021-09-30', '2021-11-09', '2021-12-13', '2021-10-26', '2021-12-09']\n",
    "\n",
    "Суммы покупок по датам\n",
    "[1270, 8413, 9028, 3703, 5739, 4095, 295, 4944, 5723, 3701, 4471, 651, 7037, 4274, 6275, 4988, 6930, 2971, 6592, 2004, 2822, 519, 3406, 2732, 5015, 2008, 316, 6333, 5700, 2887]"
   ]
  },
  {
   "cell_type": "markdown",
   "id": "47dcd151",
   "metadata": {},
   "source": [
    "### Задание 3.1:\n",
    "3.1 Найдите, какая выручка у компании в ноябре. Используйте list comprehensions"
   ]
  },
  {
   "cell_type": "code",
   "execution_count": 125,
   "id": "52444013",
   "metadata": {},
   "outputs": [
    {
     "data": {
      "text/plain": [
       "25098"
      ]
     },
     "execution_count": 125,
     "metadata": {},
     "output_type": "execute_result"
    }
   ],
   "source": [
    "date = ['2021-09-14', '2021-12-15', '2021-09-08', '2021-12-05', '2021-10-09', '2021-09-30', '2021-12-22', '2021-11-29', '2021-12-24', '2021-11-26', '2021-10-27', '2021-12-18', '2021-11-09', '2021-11-23', '2021-09-27', '2021-10-02', '2021-12-27', '2021-09-20', '2021-12-13', '2021-11-01', '2021-11-09', '2021-12-06', '2021-12-08', '2021-10-09', '2021-10-31', '2021-09-30', '2021-11-09', '2021-12-13', '2021-10-26', '2021-12-09']\n",
    "sum_of_purchases = [1270, 8413, 9028, 3703, 5739, 4095, 295, 4944, 5723, 3701, 4471, 651, 7037, 4274, 6275, 4988, 6930, 2971, 6592, 2004, 2822, 519, 3406, 2732, 5015, 2008, 316, 6333, 5700, 2887]\n",
    "\n",
    "sum(i[1] for i in zip(date, sum_of_purchases) if '-11-' in i[0])"
   ]
  },
  {
   "cell_type": "markdown",
   "id": "af1beff8",
   "metadata": {},
   "source": [
    "### Задание 3.2:\n",
    "3.2 Найдите выручку компании в зависимости от месяца\n",
    "Для этого напишите функцию, которая на вход принимает список с датами и список с выручкой, а на выходе словарь, где ключи - это месяцы, а значения - это выручка.\n",
    "Используйте аннотирование типов."
   ]
  },
  {
   "cell_type": "code",
   "execution_count": 141,
   "id": "ea590a74",
   "metadata": {},
   "outputs": [
    {
     "data": {
      "text/html": [
       "<div>\n",
       "<style scoped>\n",
       "    .dataframe tbody tr th:only-of-type {\n",
       "        vertical-align: middle;\n",
       "    }\n",
       "\n",
       "    .dataframe tbody tr th {\n",
       "        vertical-align: top;\n",
       "    }\n",
       "\n",
       "    .dataframe thead th {\n",
       "        text-align: right;\n",
       "    }\n",
       "</style>\n",
       "<table border=\"1\" class=\"dataframe\">\n",
       "  <thead>\n",
       "    <tr style=\"text-align: right;\">\n",
       "      <th></th>\n",
       "      <th>Sum of purchases</th>\n",
       "    </tr>\n",
       "    <tr>\n",
       "      <th>Months</th>\n",
       "      <th></th>\n",
       "    </tr>\n",
       "  </thead>\n",
       "  <tbody>\n",
       "    <tr>\n",
       "      <th>9</th>\n",
       "      <td>25647</td>\n",
       "    </tr>\n",
       "    <tr>\n",
       "      <th>10</th>\n",
       "      <td>28645</td>\n",
       "    </tr>\n",
       "    <tr>\n",
       "      <th>11</th>\n",
       "      <td>25098</td>\n",
       "    </tr>\n",
       "    <tr>\n",
       "      <th>12</th>\n",
       "      <td>45452</td>\n",
       "    </tr>\n",
       "  </tbody>\n",
       "</table>\n",
       "</div>"
      ],
      "text/plain": [
       "        Sum of purchases\n",
       "Months                  \n",
       "9                  25647\n",
       "10                 28645\n",
       "11                 25098\n",
       "12                 45452"
      ]
     },
     "execution_count": 141,
     "metadata": {},
     "output_type": "execute_result"
    }
   ],
   "source": [
    "import pandas as pd\n",
    "import datetime\n",
    " \n",
    "date_frame = pd.DataFrame()\n",
    "date_frame['Date'] = [datetime.datetime.strptime(i, '%Y-%m-%d') for i in date]\n",
    "date_frame['Sum of purchases'] = sum_of_purchases\n",
    "date_frame['Months'] = pd.DatetimeIndex(date_frame['Date']).month\n",
    "date_frame.groupby('Months').sum()"
   ]
  }
 ],
 "metadata": {
  "kernelspec": {
   "display_name": "Python 3 (ipykernel)",
   "language": "python",
   "name": "python3"
  },
  "language_info": {
   "codemirror_mode": {
    "name": "ipython",
    "version": 3
   },
   "file_extension": ".py",
   "mimetype": "text/x-python",
   "name": "python",
   "nbconvert_exporter": "python",
   "pygments_lexer": "ipython3",
   "version": "3.9.12"
  }
 },
 "nbformat": 4,
 "nbformat_minor": 5
}
